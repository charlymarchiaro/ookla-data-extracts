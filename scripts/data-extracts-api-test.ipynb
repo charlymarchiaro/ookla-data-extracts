{
 "cells": [
  {
   "cell_type": "code",
   "execution_count": 1,
   "outputs": [],
   "source": [
    "import os\n",
    "from datetime import datetime\n",
    "from urllib.parse import urlparse, ParseResult\n",
    "\n",
    "import psycopg2  # type: ignore\n",
    "import psycopg2.extras  # type: ignore\n",
    "\n",
    "import urllib.request as compatible_urllib\n",
    "import json\n",
    "import os\n",
    "import base64\n",
    "import sys\n",
    "import random\n",
    "\n",
    "import logging\n",
    "\n",
    "from scripts.consts import env_file_path\n",
    "import scripts.db_handler as db_handler"
   ],
   "metadata": {
    "collapsed": false,
    "pycharm": {
     "name": "#%%\n"
    }
   }
  },
  {
   "cell_type": "code",
   "execution_count": 2,
   "outputs": [],
   "source": [
    "from environs import Env\n",
    "\n",
    "env = Env()\n",
    "env.read_env(env_file_path)"
   ],
   "metadata": {
    "collapsed": false,
    "pycharm": {
     "name": "#%%\n"
    }
   }
  },
  {
   "cell_type": "code",
   "execution_count": 3,
   "outputs": [
    {
     "name": "stdout",
     "output_type": "stream",
     "text": [
      "D:\\Cell Planning\\Ookla\\data_extracts\\android_bg_v2_2022-07-05\\[test] android_bg_v2_2022-07-05.csv\n",
      "ng\\Ookla\\\n"
     ]
    }
   ],
   "source": [
    "db_handler.save_android_bg_v2_file('D:\\\\Cell Planning\\\\Ookla\\\\data_extracts\\\\android_bg_v2_2022-07-05\\\\[test] android_bg_v2_2022-07-05.csv')\n",
    "# cnxn = get_db_connection()\n",
    "# cursor = cnxn.cursor()\n",
    "# v = 'value_' + str(random.randint(1000, 9999))\n",
    "# sql = f\"\"\"\n",
    "#         COPY public.android_bg_v2(\n",
    "#             report_id,\n",
    "#             ...\n",
    "#         )\n",
    "#         FROM 'D:/Cell Planning/Ookla/data_extracts/android_bg_v2_2022-07-05/android_bg_v2_2022-07-05.csv'\n",
    "#         WITH (\n",
    "#             FORMAT CSV,\n",
    "#             HEADER,\n",
    "#             DELIMITER ',',\n",
    "#             QUOTE '\\\"',\n",
    "#             ESCAPE '''',\n",
    "#             FORCE_NULL(\n",
    "#                 report_id,\n",
    "#                 ...\n",
    "#             )\n",
    "#         )\n",
    "#         \"\"\"\n",
    "# cursor.execute(sql)\n",
    "# cnxn.commit()\n",
    "# cnxn.close()"
   ],
   "metadata": {
    "collapsed": false,
    "pycharm": {
     "name": "#%%\n"
    }
   }
  },
  {
   "cell_type": "code",
   "execution_count": 5,
   "outputs": [
    {
     "name": "stdout",
     "output_type": "stream",
     "text": [
      "Downloading: android_2022-07-05.zip\n",
      "Downloading: android_servers_2022-07-05.zip\n",
      "Downloading: android_bg_v2_2022-07-05.zip\n"
     ]
    },
    {
     "ename": "KeyboardInterrupt",
     "evalue": "",
     "output_type": "error",
     "traceback": [
      "\u001B[1;31m---------------------------------------------------------------------------\u001B[0m",
      "\u001B[1;31mKeyboardInterrupt\u001B[0m                         Traceback (most recent call last)",
      "Input \u001B[1;32mIn [5]\u001B[0m, in \u001B[0;36m<cell line: 92>\u001B[1;34m()\u001B[0m\n\u001B[0;32m     90\u001B[0m \u001B[38;5;66;03m#############################################################\u001B[39;00m\n\u001B[0;32m     91\u001B[0m files \u001B[38;5;241m=\u001B[39m sort_files_and_directories(content)\n\u001B[1;32m---> 92\u001B[0m \u001B[43mdownload\u001B[49m\u001B[43m(\u001B[49m\u001B[43mfiles\u001B[49m\u001B[43m)\u001B[49m\n",
      "Input \u001B[1;32mIn [5]\u001B[0m, in \u001B[0;36mdownload\u001B[1;34m(files)\u001B[0m\n\u001B[0;32m     87\u001B[0m \u001B[38;5;28mprint\u001B[39m((\u001B[38;5;124m\"\u001B[39m\u001B[38;5;124mDownloading: \u001B[39m\u001B[38;5;132;01m%s\u001B[39;00m\u001B[38;5;124m\"\u001B[39m \u001B[38;5;241m%\u001B[39m (file[\u001B[38;5;124m'\u001B[39m\u001B[38;5;124mname\u001B[39m\u001B[38;5;124m'\u001B[39m])))\n\u001B[0;32m     88\u001B[0m \u001B[38;5;28;01mwith\u001B[39;00m \u001B[38;5;28mopen\u001B[39m(flocation, \u001B[38;5;124m'\u001B[39m\u001B[38;5;124mwb\u001B[39m\u001B[38;5;124m'\u001B[39m) \u001B[38;5;28;01mas\u001B[39;00m content:\n\u001B[1;32m---> 89\u001B[0m     content\u001B[38;5;241m.\u001B[39mwrite(\u001B[43mresponse\u001B[49m\u001B[38;5;241;43m.\u001B[39;49m\u001B[43mread\u001B[49m\u001B[43m(\u001B[49m\u001B[43m)\u001B[49m)\n",
      "File \u001B[1;32mC:\\Python310\\lib\\http\\client.py:480\u001B[0m, in \u001B[0;36mHTTPResponse.read\u001B[1;34m(self, amt)\u001B[0m\n\u001B[0;32m    478\u001B[0m \u001B[38;5;28;01melse\u001B[39;00m:\n\u001B[0;32m    479\u001B[0m     \u001B[38;5;28;01mtry\u001B[39;00m:\n\u001B[1;32m--> 480\u001B[0m         s \u001B[38;5;241m=\u001B[39m \u001B[38;5;28;43mself\u001B[39;49m\u001B[38;5;241;43m.\u001B[39;49m\u001B[43m_safe_read\u001B[49m\u001B[43m(\u001B[49m\u001B[38;5;28;43mself\u001B[39;49m\u001B[38;5;241;43m.\u001B[39;49m\u001B[43mlength\u001B[49m\u001B[43m)\u001B[49m\n\u001B[0;32m    481\u001B[0m     \u001B[38;5;28;01mexcept\u001B[39;00m IncompleteRead:\n\u001B[0;32m    482\u001B[0m         \u001B[38;5;28mself\u001B[39m\u001B[38;5;241m.\u001B[39m_close_conn()\n",
      "File \u001B[1;32mC:\\Python310\\lib\\http\\client.py:629\u001B[0m, in \u001B[0;36mHTTPResponse._safe_read\u001B[1;34m(self, amt)\u001B[0m\n\u001B[0;32m    622\u001B[0m \u001B[38;5;28;01mdef\u001B[39;00m \u001B[38;5;21m_safe_read\u001B[39m(\u001B[38;5;28mself\u001B[39m, amt):\n\u001B[0;32m    623\u001B[0m     \u001B[38;5;124;03m\"\"\"Read the number of bytes requested.\u001B[39;00m\n\u001B[0;32m    624\u001B[0m \n\u001B[0;32m    625\u001B[0m \u001B[38;5;124;03m    This function should be used when <amt> bytes \"should\" be present for\u001B[39;00m\n\u001B[0;32m    626\u001B[0m \u001B[38;5;124;03m    reading. If the bytes are truly not available (due to EOF), then the\u001B[39;00m\n\u001B[0;32m    627\u001B[0m \u001B[38;5;124;03m    IncompleteRead exception can be used to detect the problem.\u001B[39;00m\n\u001B[0;32m    628\u001B[0m \u001B[38;5;124;03m    \"\"\"\u001B[39;00m\n\u001B[1;32m--> 629\u001B[0m     data \u001B[38;5;241m=\u001B[39m \u001B[38;5;28;43mself\u001B[39;49m\u001B[38;5;241;43m.\u001B[39;49m\u001B[43mfp\u001B[49m\u001B[38;5;241;43m.\u001B[39;49m\u001B[43mread\u001B[49m\u001B[43m(\u001B[49m\u001B[43mamt\u001B[49m\u001B[43m)\u001B[49m\n\u001B[0;32m    630\u001B[0m     \u001B[38;5;28;01mif\u001B[39;00m \u001B[38;5;28mlen\u001B[39m(data) \u001B[38;5;241m<\u001B[39m amt:\n\u001B[0;32m    631\u001B[0m         \u001B[38;5;28;01mraise\u001B[39;00m IncompleteRead(data, amt\u001B[38;5;241m-\u001B[39m\u001B[38;5;28mlen\u001B[39m(data))\n",
      "File \u001B[1;32mC:\\Python310\\lib\\socket.py:705\u001B[0m, in \u001B[0;36mSocketIO.readinto\u001B[1;34m(self, b)\u001B[0m\n\u001B[0;32m    703\u001B[0m \u001B[38;5;28;01mwhile\u001B[39;00m \u001B[38;5;28;01mTrue\u001B[39;00m:\n\u001B[0;32m    704\u001B[0m     \u001B[38;5;28;01mtry\u001B[39;00m:\n\u001B[1;32m--> 705\u001B[0m         \u001B[38;5;28;01mreturn\u001B[39;00m \u001B[38;5;28;43mself\u001B[39;49m\u001B[38;5;241;43m.\u001B[39;49m\u001B[43m_sock\u001B[49m\u001B[38;5;241;43m.\u001B[39;49m\u001B[43mrecv_into\u001B[49m\u001B[43m(\u001B[49m\u001B[43mb\u001B[49m\u001B[43m)\u001B[49m\n\u001B[0;32m    706\u001B[0m     \u001B[38;5;28;01mexcept\u001B[39;00m timeout:\n\u001B[0;32m    707\u001B[0m         \u001B[38;5;28mself\u001B[39m\u001B[38;5;241m.\u001B[39m_timeout_occurred \u001B[38;5;241m=\u001B[39m \u001B[38;5;28;01mTrue\u001B[39;00m\n",
      "File \u001B[1;32mC:\\Python310\\lib\\ssl.py:1273\u001B[0m, in \u001B[0;36mSSLSocket.recv_into\u001B[1;34m(self, buffer, nbytes, flags)\u001B[0m\n\u001B[0;32m   1269\u001B[0m     \u001B[38;5;28;01mif\u001B[39;00m flags \u001B[38;5;241m!=\u001B[39m \u001B[38;5;241m0\u001B[39m:\n\u001B[0;32m   1270\u001B[0m         \u001B[38;5;28;01mraise\u001B[39;00m \u001B[38;5;167;01mValueError\u001B[39;00m(\n\u001B[0;32m   1271\u001B[0m           \u001B[38;5;124m\"\u001B[39m\u001B[38;5;124mnon-zero flags not allowed in calls to recv_into() on \u001B[39m\u001B[38;5;132;01m%s\u001B[39;00m\u001B[38;5;124m\"\u001B[39m \u001B[38;5;241m%\u001B[39m\n\u001B[0;32m   1272\u001B[0m           \u001B[38;5;28mself\u001B[39m\u001B[38;5;241m.\u001B[39m\u001B[38;5;18m__class__\u001B[39m)\n\u001B[1;32m-> 1273\u001B[0m     \u001B[38;5;28;01mreturn\u001B[39;00m \u001B[38;5;28;43mself\u001B[39;49m\u001B[38;5;241;43m.\u001B[39;49m\u001B[43mread\u001B[49m\u001B[43m(\u001B[49m\u001B[43mnbytes\u001B[49m\u001B[43m,\u001B[49m\u001B[43m \u001B[49m\u001B[43mbuffer\u001B[49m\u001B[43m)\u001B[49m\n\u001B[0;32m   1274\u001B[0m \u001B[38;5;28;01melse\u001B[39;00m:\n\u001B[0;32m   1275\u001B[0m     \u001B[38;5;28;01mreturn\u001B[39;00m \u001B[38;5;28msuper\u001B[39m()\u001B[38;5;241m.\u001B[39mrecv_into(buffer, nbytes, flags)\n",
      "File \u001B[1;32mC:\\Python310\\lib\\ssl.py:1129\u001B[0m, in \u001B[0;36mSSLSocket.read\u001B[1;34m(self, len, buffer)\u001B[0m\n\u001B[0;32m   1127\u001B[0m \u001B[38;5;28;01mtry\u001B[39;00m:\n\u001B[0;32m   1128\u001B[0m     \u001B[38;5;28;01mif\u001B[39;00m buffer \u001B[38;5;129;01mis\u001B[39;00m \u001B[38;5;129;01mnot\u001B[39;00m \u001B[38;5;28;01mNone\u001B[39;00m:\n\u001B[1;32m-> 1129\u001B[0m         \u001B[38;5;28;01mreturn\u001B[39;00m \u001B[38;5;28;43mself\u001B[39;49m\u001B[38;5;241;43m.\u001B[39;49m\u001B[43m_sslobj\u001B[49m\u001B[38;5;241;43m.\u001B[39;49m\u001B[43mread\u001B[49m\u001B[43m(\u001B[49m\u001B[38;5;28;43mlen\u001B[39;49m\u001B[43m,\u001B[49m\u001B[43m \u001B[49m\u001B[43mbuffer\u001B[49m\u001B[43m)\u001B[49m\n\u001B[0;32m   1130\u001B[0m     \u001B[38;5;28;01melse\u001B[39;00m:\n\u001B[0;32m   1131\u001B[0m         \u001B[38;5;28;01mreturn\u001B[39;00m \u001B[38;5;28mself\u001B[39m\u001B[38;5;241m.\u001B[39m_sslobj\u001B[38;5;241m.\u001B[39mread(\u001B[38;5;28mlen\u001B[39m)\n",
      "\u001B[1;31mKeyboardInterrupt\u001B[0m: "
     ]
    }
   ],
   "source": [
    "# extracts_url = 'https://intelligence.speedtest.net/extracts'\n",
    "#\n",
    "# # Please replace MyApiKey and MyApiSecret below with your organization's API key.\n",
    "# username = env('DATA_EXTRACTS_API_KEY_ID')\n",
    "# password = env('DATA_EXTRACTS_API_KEY_SECRET')\n",
    "#\n",
    "# # By default, the script stores the extract files in the directory where the script is running\n",
    "# # To specify a storage directory, change this value to a string represting the directory where\n",
    "# # the files should be stored.\n",
    "# # Example: storageDir = '/data/ookla/extracts'\n",
    "# storageDir = os.getcwd()\n",
    "#\n",
    "# opener = compatible_urllib.build_opener()\n",
    "# compatible_urllib.install_opener(opener)\n",
    "# opener.addheaders = [('Accept', 'application/json')]\n",
    "#\n",
    "# # setup authentication\n",
    "# login_credentials = '%s:%s' % (username, password)\n",
    "# base64string = base64.b64encode(login_credentials.encode('utf-8')).decode('ascii')\n",
    "# opener.addheaders = [('Authorization', 'Basic %s' % base64string)]\n",
    "#\n",
    "# # makes request for files\n",
    "# try:\n",
    "#     response = compatible_urllib.urlopen(extracts_url).read()\n",
    "# except compatible_urllib.HTTPError as error:\n",
    "#     if error.code == 401:\n",
    "#         print(\"Authentication Error\\nPlease verify that the API key and secrete are correct\")\n",
    "#     elif error.code == 404:\n",
    "#         print(\"The account associated with this API key does not have any files attached to it.\\nPlease contact your technical account manager to enable data extracts for this account.\")\n",
    "#     elif error.code == 500:\n",
    "#         print(\"Server Error\\nPlease contact your technical account manager\")\n",
    "#     sys.exit()\n",
    "#\n",
    "# try:\n",
    "#     content = json.loads(response)\n",
    "# except ValueError as err:\n",
    "#     print(err)\n",
    "#     sys.exit()\n",
    "#\n",
    "# #############################################################\n",
    "# # loop through contents, sort through files and directories\n",
    "# def sort_files_and_directories(contents, files={}):\n",
    "#     for entry in contents:\n",
    "#         if entry['type'] == 'file' and entry['name'].find('headers') == -1 and '_20' in entry['name']:\n",
    "#             filter(entry, files)\n",
    "#         elif entry['type'] == 'dir':\n",
    "#             subdir = extracts_url + entry['url']\n",
    "#             sub_files = json.loads(compatible_urllib.urlopen(subdir).read())\n",
    "#             sort_files_and_directories(sub_files, files)\n",
    "#\n",
    "#     return files\n",
    "#\n",
    "# # determine if file should be downloaded - check for new datasets and most current file for exisiting datasets\n",
    "# def filter(data_file, files):\n",
    "#     # identify the dataset by the file name prefix\n",
    "#     dataset = data_file['name'][:data_file['name'].index('_20')]\n",
    "#     if dataset not in files or data_file['mtime'] > files[dataset]['age']:\n",
    "#         files[dataset] = {'name': data_file['name'], 'url': data_file['url'], 'age': data_file['mtime']}\n",
    "#\n",
    "# def download(files):\n",
    "#     if not files:\n",
    "#         print(\"No data extract files found. If this is an error, please contact your technical account manager.\")\n",
    "#         return\n",
    "#\n",
    "#     for data_set, file in files.items():\n",
    "#         response = compatible_urllib.urlopen(file['url'])\n",
    "#         flocation = storageDir + '/' + file['name']\n",
    "#         print((\"Downloading: %s\" % (file['name'])))\n",
    "#         with open(flocation, 'wb') as content:\n",
    "#             content.write(response.read())\n",
    "# #############################################################\n",
    "# files = sort_files_and_directories(content)\n",
    "# download(files)"
   ],
   "metadata": {
    "collapsed": false,
    "pycharm": {
     "name": "#%%\n"
    }
   }
  },
  {
   "cell_type": "code",
   "execution_count": null,
   "outputs": [],
   "source": [],
   "metadata": {
    "collapsed": false,
    "pycharm": {
     "name": "#%%\n"
    }
   }
  }
 ],
 "metadata": {
  "kernelspec": {
   "display_name": "Python 3",
   "language": "python",
   "name": "python3"
  },
  "language_info": {
   "codemirror_mode": {
    "name": "ipython",
    "version": 2
   },
   "file_extension": ".py",
   "mimetype": "text/x-python",
   "name": "python",
   "nbconvert_exporter": "python",
   "pygments_lexer": "ipython2",
   "version": "2.7.6"
  }
 },
 "nbformat": 4,
 "nbformat_minor": 0
}